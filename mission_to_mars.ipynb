{
 "cells": [
  {
   "cell_type": "code",
   "execution_count": 15,
   "id": "4cbeef89-cc10-49e7-8f6a-5e52888f2485",
   "metadata": {},
   "outputs": [],
   "source": [
    "from bs4 import BeautifulSoup as bs\n",
    "from splinter import Browser\n",
    "from webdriver_manager.chrome import ChromeDriverManager\n",
    "import requests\n",
    "import os\n",
    "import pandas as pd"
   ]
  },
  {
   "cell_type": "code",
   "execution_count": 16,
   "id": "aef5fc07-94c4-4135-a1ee-166a71635910",
   "metadata": {},
   "outputs": [],
   "source": [
    "filepath = os.path.join('NewsMarsExplorationProgram.html')\n",
    "with open(filepath, encoding='utf-8') as file:\n",
    "    html = file.read()"
   ]
  },
  {
   "cell_type": "code",
   "execution_count": 17,
   "id": "84acf7b2-b7df-4780-9fa0-b9243cdad9f0",
   "metadata": {},
   "outputs": [],
   "source": [
    "chrome_driver = \"/Users/patba/Desktop/ChromeDriver/chromedriver\"\n",
    "executable_path = {'executable_path': chrome_driver}\n",
    "browser = Browser('chrome', **executable_path, headless=False)"
   ]
  },
  {
   "cell_type": "code",
   "execution_count": 18,
   "id": "5cddac66-939b-42ef-a3b2-6a16c2699015",
   "metadata": {},
   "outputs": [],
   "source": [
    "mars_url = 'https://redplanetscience.com/'\n",
    "browser.visit(mars_url)"
   ]
  },
  {
   "cell_type": "code",
   "execution_count": 19,
   "id": "94900315-4f55-4094-b808-c37ee97d8618",
   "metadata": {},
   "outputs": [],
   "source": [
    "mars_html = browser.html\n",
    "mars_soup = bs(mars_html, 'html.parser')\n"
   ]
  },
  {
   "cell_type": "code",
   "execution_count": 20,
   "id": "6c550a9a-fd3e-4472-b752-24bed0047c7f",
   "metadata": {},
   "outputs": [
    {
     "name": "stdout",
     "output_type": "stream",
     "text": [
      "The latest news title is: NASA to Broadcast Mars 2020 Perseverance Launch, Prelaunch Activities\n"
     ]
    }
   ],
   "source": [
    "# get latest news title\n",
    "news_title = mars_soup.find('div', class_='content_title').get_text()\n",
    "print('The latest news title is: ' + news_title)"
   ]
  },
  {
   "cell_type": "code",
   "execution_count": 21,
   "id": "f44d95c1-6eda-4cd5-ba1f-38d27676871b",
   "metadata": {},
   "outputs": [
    {
     "name": "stdout",
     "output_type": "stream",
     "text": [
      "Starting July 27, news activities will cover everything from mission engineering and science to returning samples from Mars to, of course, the launch itself.\n"
     ]
    }
   ],
   "source": [
    "# get paragraph text from the latest news article\n",
    "news_p = mars_soup.find('div', class_='article_teaser_body').get_text()\n",
    "print(news_p)"
   ]
  },
  {
   "cell_type": "code",
   "execution_count": 22,
   "id": "60b0bab7-8056-42e6-8930-692075b0606e",
   "metadata": {},
   "outputs": [],
   "source": [
    "browser.quit()"
   ]
  },
  {
   "cell_type": "code",
   "execution_count": 12,
   "id": "b313b7a8-e1dc-4076-83a1-236705310d7c",
   "metadata": {},
   "outputs": [],
   "source": [
    "# SPACE IMAGES FROM MARS\n",
    "executable_path = {'executable_path': chrome_driver}\n",
    "browser = Browser('chrome', **executable_path, headless=False)\n",
    "space_url = 'https://spaceimages-mars.com'\n",
    "browser.visit(space_url)"
   ]
  },
  {
   "cell_type": "code",
   "execution_count": 13,
   "id": "090ebe8d-2035-49c5-9892-c76988c63037",
   "metadata": {},
   "outputs": [],
   "source": [
    "space_html = browser.html\n",
    "space_soup = bs(space_html, 'html.parser')"
   ]
  },
  {
   "cell_type": "code",
   "execution_count": 14,
   "id": "de1ec2ea-bc7b-4944-9398-6868d4d2324c",
   "metadata": {},
   "outputs": [
    {
     "name": "stdout",
     "output_type": "stream",
     "text": [
      "image/featured/mars1.jpg\n"
     ]
    }
   ],
   "source": [
    "# find featured image \n",
    "featured_img = space_soup.find('img', class_='headerimage fade-in').get('src')\n",
    "print(featured_img)"
   ]
  },
  {
   "cell_type": "code",
   "execution_count": 12,
   "id": "37e881d6-bc0e-45f1-ac80-879031a09287",
   "metadata": {},
   "outputs": [
    {
     "data": {
      "text/plain": [
       "'https://spaceimages-mars.comimage/featured/mars2.jpg'"
      ]
     },
     "execution_count": 12,
     "metadata": {},
     "output_type": "execute_result"
    }
   ],
   "source": [
    "# assign featured img to url string\n",
    "featured_img_url = f'{space_url + featured_img}'\n",
    "featured_img_url"
   ]
  },
  {
   "cell_type": "code",
   "execution_count": 13,
   "id": "d11d9670-b768-42dc-b035-391820c774ef",
   "metadata": {},
   "outputs": [],
   "source": [
    "browser.quit()"
   ]
  },
  {
   "cell_type": "code",
   "execution_count": 55,
   "id": "a95e9754-ccf5-4b68-afee-9a4c5b831eb2",
   "metadata": {},
   "outputs": [],
   "source": [
    "# MARS FACTS\n",
    "executable_path = {'executable_path': chrome_driver}\n",
    "browser = Browser('chrome', **executable_path, headless=False)\n",
    "mars_facts_url = 'https://galaxyfacts-mars.com/'\n",
    "browser.visit(mars_facts_url)"
   ]
  },
  {
   "cell_type": "code",
   "execution_count": 54,
   "id": "b04101d8-f24a-4898-8ef2-bc0b32c4af94",
   "metadata": {
    "tags": []
   },
   "outputs": [],
   "source": [
    "# not needed\n",
    "#mars_facts_html = browser.html\n",
    "#mars_facts_soup = bs(mars_facts_html, 'html.parser')\n"
   ]
  },
  {
   "cell_type": "code",
   "execution_count": 56,
   "id": "894b9999-4129-4fba-8ec1-9c1fc5f5b2ad",
   "metadata": {},
   "outputs": [
    {
     "data": {
      "text/plain": [
       "[                         0                1                2\n",
       " 0  Mars - Earth Comparison             Mars            Earth\n",
       " 1                Diameter:         6,779 km        12,742 km\n",
       " 2                    Mass:  6.39 × 10^23 kg  5.97 × 10^24 kg\n",
       " 3                   Moons:                2                1\n",
       " 4       Distance from Sun:   227,943,824 km   149,598,262 km\n",
       " 5          Length of Year:   687 Earth days      365.24 days\n",
       " 6             Temperature:     -87 to -5 °C      -88 to 58°C,\n",
       "                       0                              1\n",
       " 0  Equatorial Diameter:                       6,792 km\n",
       " 1       Polar Diameter:                       6,752 km\n",
       " 2                 Mass:  6.39 × 10^23 kg (0.11 Earths)\n",
       " 3                Moons:          2 ( Phobos & Deimos )\n",
       " 4       Orbit Distance:       227,943,824 km (1.38 AU)\n",
       " 5         Orbit Period:           687 days (1.9 years)\n",
       " 6  Surface Temperature:                   -87 to -5 °C\n",
       " 7         First Record:              2nd millennium BC\n",
       " 8          Recorded By:           Egyptian astronomers]"
      ]
     },
     "execution_count": 56,
     "metadata": {},
     "output_type": "execute_result"
    }
   ],
   "source": [
    "# scrape mars facts table\n",
    "planet_facts_dfs = pd.read_html(mars_facts_url)\n",
    "planet_facts_dfs"
   ]
  },
  {
   "cell_type": "code",
   "execution_count": 57,
   "id": "7dbd04c3-e376-429b-854b-dd78a6d91ace",
   "metadata": {},
   "outputs": [
    {
     "data": {
      "text/html": [
       "<div>\n",
       "<style scoped>\n",
       "    .dataframe tbody tr th:only-of-type {\n",
       "        vertical-align: middle;\n",
       "    }\n",
       "\n",
       "    .dataframe tbody tr th {\n",
       "        vertical-align: top;\n",
       "    }\n",
       "\n",
       "    .dataframe thead th {\n",
       "        text-align: right;\n",
       "    }\n",
       "</style>\n",
       "<table border=\"1\" class=\"dataframe\">\n",
       "  <thead>\n",
       "    <tr style=\"text-align: right;\">\n",
       "      <th></th>\n",
       "      <th>Mars Facts</th>\n",
       "    </tr>\n",
       "    <tr>\n",
       "      <th>Properties</th>\n",
       "      <th></th>\n",
       "    </tr>\n",
       "  </thead>\n",
       "  <tbody>\n",
       "    <tr>\n",
       "      <th>Equatorial Diameter:</th>\n",
       "      <td>6,792 km</td>\n",
       "    </tr>\n",
       "    <tr>\n",
       "      <th>Polar Diameter:</th>\n",
       "      <td>6,752 km</td>\n",
       "    </tr>\n",
       "    <tr>\n",
       "      <th>Mass:</th>\n",
       "      <td>6.39 × 10^23 kg (0.11 Earths)</td>\n",
       "    </tr>\n",
       "    <tr>\n",
       "      <th>Moons:</th>\n",
       "      <td>2 ( Phobos &amp; Deimos )</td>\n",
       "    </tr>\n",
       "    <tr>\n",
       "      <th>Orbit Distance:</th>\n",
       "      <td>227,943,824 km (1.38 AU)</td>\n",
       "    </tr>\n",
       "    <tr>\n",
       "      <th>Orbit Period:</th>\n",
       "      <td>687 days (1.9 years)</td>\n",
       "    </tr>\n",
       "    <tr>\n",
       "      <th>Surface Temperature:</th>\n",
       "      <td>-87 to -5 °C</td>\n",
       "    </tr>\n",
       "    <tr>\n",
       "      <th>First Record:</th>\n",
       "      <td>2nd millennium BC</td>\n",
       "    </tr>\n",
       "    <tr>\n",
       "      <th>Recorded By:</th>\n",
       "      <td>Egyptian astronomers</td>\n",
       "    </tr>\n",
       "  </tbody>\n",
       "</table>\n",
       "</div>"
      ],
      "text/plain": [
       "                                         Mars Facts\n",
       "Properties                                         \n",
       "Equatorial Diameter:                       6,792 km\n",
       "Polar Diameter:                            6,752 km\n",
       "Mass:                 6.39 × 10^23 kg (0.11 Earths)\n",
       "Moons:                        2 ( Phobos & Deimos )\n",
       "Orbit Distance:            227,943,824 km (1.38 AU)\n",
       "Orbit Period:                  687 days (1.9 years)\n",
       "Surface Temperature:                   -87 to -5 °C\n",
       "First Record:                     2nd millennium BC\n",
       "Recorded By:                   Egyptian astronomers"
      ]
     },
     "execution_count": 57,
     "metadata": {},
     "output_type": "execute_result"
    }
   ],
   "source": [
    "# mars facts df\n",
    "mars_df = planet_facts_dfs[1]\n",
    "mars_df.rename(columns={0 : \"Properties\", 1 : \"Mars Facts\"}).set_index(\"Properties\")"
   ]
  },
  {
   "cell_type": "code",
   "execution_count": 58,
   "id": "3a4432eb-7fca-4038-94b5-cb93d74a1612",
   "metadata": {},
   "outputs": [],
   "source": [
    "# mars earth comparison df\n",
    "earth_mars_df = planet_facts_dfs[0]\n",
    "earth_mars_df = earth_mars_df.rename(columns={0 : \"Properties\", 1 : \"\", 2 : \"\"}).set_index(\"Properties\")"
   ]
  },
  {
   "cell_type": "code",
   "execution_count": 59,
   "id": "89d0a426-c13a-4a3a-9093-3c84c9084560",
   "metadata": {},
   "outputs": [
    {
     "data": {
      "text/html": [
       "<div>\n",
       "<style scoped>\n",
       "    .dataframe tbody tr th:only-of-type {\n",
       "        vertical-align: middle;\n",
       "    }\n",
       "\n",
       "    .dataframe tbody tr th {\n",
       "        vertical-align: top;\n",
       "    }\n",
       "\n",
       "    .dataframe thead th {\n",
       "        text-align: right;\n",
       "    }\n",
       "</style>\n",
       "<table border=\"1\" class=\"dataframe\">\n",
       "  <thead>\n",
       "    <tr style=\"text-align: right;\">\n",
       "      <th></th>\n",
       "      <th></th>\n",
       "      <th></th>\n",
       "    </tr>\n",
       "    <tr>\n",
       "      <th>Properties</th>\n",
       "      <th></th>\n",
       "      <th></th>\n",
       "    </tr>\n",
       "  </thead>\n",
       "  <tbody>\n",
       "    <tr>\n",
       "      <th>Mars - Earth Comparison</th>\n",
       "      <td>Mars</td>\n",
       "      <td>Earth</td>\n",
       "    </tr>\n",
       "    <tr>\n",
       "      <th>Diameter:</th>\n",
       "      <td>6,779 km</td>\n",
       "      <td>12,742 km</td>\n",
       "    </tr>\n",
       "    <tr>\n",
       "      <th>Mass:</th>\n",
       "      <td>6.39 × 10^23 kg</td>\n",
       "      <td>5.97 × 10^24 kg</td>\n",
       "    </tr>\n",
       "    <tr>\n",
       "      <th>Moons:</th>\n",
       "      <td>2</td>\n",
       "      <td>1</td>\n",
       "    </tr>\n",
       "    <tr>\n",
       "      <th>Distance from Sun:</th>\n",
       "      <td>227,943,824 km</td>\n",
       "      <td>149,598,262 km</td>\n",
       "    </tr>\n",
       "    <tr>\n",
       "      <th>Length of Year:</th>\n",
       "      <td>687 Earth days</td>\n",
       "      <td>365.24 days</td>\n",
       "    </tr>\n",
       "    <tr>\n",
       "      <th>Temperature:</th>\n",
       "      <td>-87 to -5 °C</td>\n",
       "      <td>-88 to 58°C</td>\n",
       "    </tr>\n",
       "  </tbody>\n",
       "</table>\n",
       "</div>"
      ],
      "text/plain": [
       "                                                         \n",
       "Properties                                               \n",
       "Mars - Earth Comparison             Mars            Earth\n",
       "Diameter:                       6,779 km        12,742 km\n",
       "Mass:                    6.39 × 10^23 kg  5.97 × 10^24 kg\n",
       "Moons:                                 2                1\n",
       "Distance from Sun:        227,943,824 km   149,598,262 km\n",
       "Length of Year:           687 Earth days      365.24 days\n",
       "Temperature:                -87 to -5 °C      -88 to 58°C"
      ]
     },
     "execution_count": 59,
     "metadata": {},
     "output_type": "execute_result"
    }
   ],
   "source": [
    "earth_mars_df"
   ]
  },
  {
   "cell_type": "code",
   "execution_count": 60,
   "id": "967defd6-bb70-476b-93d5-611354e7ee80",
   "metadata": {},
   "outputs": [],
   "source": [
    "browser.quit()"
   ]
  },
  {
   "cell_type": "code",
   "execution_count": 21,
   "id": "def571f6-5daa-4fbb-8c56-d24d21790310",
   "metadata": {},
   "outputs": [],
   "source": [
    "# MARS HEMISPHERE\n",
    "executable_path = {'executable_path': chrome_driver}\n",
    "browser = Browser('chrome', **executable_path, headless=False)\n",
    "mars_hemi_url = 'https://marshemispheres.com/'\n",
    "browser.visit(mars_hemi_url)"
   ]
  },
  {
   "cell_type": "code",
   "execution_count": 22,
   "id": "c40d2cab-54dd-4296-beb6-cc5061553de1",
   "metadata": {},
   "outputs": [],
   "source": [
    "mars_hemi_html = browser.html\n",
    "mars_hemi_soup = bs(mars_hemi_html, 'html.parser')\n"
   ]
  },
  {
   "cell_type": "code",
   "execution_count": 23,
   "id": "47a53e57-38b0-4015-905a-7472401f6631",
   "metadata": {},
   "outputs": [],
   "source": [
    "# get links to enhanced images\n",
    "links = []\n",
    "for h in mars_hemi_soup.find_all('a', class_='itemLink product-item'):\n",
    "    if h not in links:\n",
    "        links.append(h.get('href'))"
   ]
  },
  {
   "cell_type": "code",
   "execution_count": 24,
   "id": "5f1aae5a-bb45-4667-84fc-3777e55c4f94",
   "metadata": {},
   "outputs": [],
   "source": [
    "# get titles of imgs\n",
    "titles = []\n",
    "for h in mars_hemi_soup.find_all('h3'):\n",
    "    if h not in titles:\n",
    "        titles.append(h.get_text())"
   ]
  },
  {
   "cell_type": "code",
   "execution_count": 26,
   "id": "6775e1ad-98bf-40ec-8a99-a7c66a4ade97",
   "metadata": {},
   "outputs": [
    {
     "data": {
      "text/plain": [
       "'cerberus.html'"
      ]
     },
     "execution_count": 26,
     "metadata": {},
     "output_type": "execute_result"
    }
   ],
   "source": [
    "# check link list\n",
    "links[0]"
   ]
  },
  {
   "cell_type": "code",
   "execution_count": 27,
   "id": "8dd5dbdd-5d7f-4876-8d86-7d694f46cb46",
   "metadata": {},
   "outputs": [
    {
     "name": "stdout",
     "output_type": "stream",
     "text": [
      "https://marshemispheres.com/cerberus.html\n",
      "https://marshemispheres.com/schiaparelli.html\n",
      "https://marshemispheres.com/syrtis.html\n",
      "https://marshemispheres.com/valles.html\n"
     ]
    }
   ],
   "source": [
    "# assign featured img to url string - hemisphere urls\n",
    "mars_img_A = f'{mars_hemi_url + links[0]}'\n",
    "mars_img_B = f'{mars_hemi_url + links[2]}'\n",
    "mars_img_C = f'{mars_hemi_url + links[4]}'\n",
    "mars_img_D = f'{mars_hemi_url + links[6]}'\n",
    "\n",
    "print(mars_img_A + \"\\n\" + mars_img_B + \"\\n\" + mars_img_C + \"\\n\" + mars_img_D)\n"
   ]
  },
  {
   "cell_type": "code",
   "execution_count": 28,
   "id": "4844b90c-85e7-41b4-9605-cda94e21de36",
   "metadata": {},
   "outputs": [
    {
     "name": "stdout",
     "output_type": "stream",
     "text": [
      "Cerberus Hemisphere Enhanced\n",
      "Schiaparelli Hemisphere Enhanced\n",
      "Syrtis Major Hemisphere Enhanced\n",
      "Valles Marineris Hemisphere Enhanced\n"
     ]
    }
   ],
   "source": [
    "# mars hemisphere img titles\n",
    "mars_title_A = titles[0]\n",
    "mars_title_B = titles[1]\n",
    "mars_title_C = titles[2]\n",
    "mars_title_D = titles[3]\n",
    "print(mars_title_A + \"\\n\" + mars_title_B + \"\\n\" + mars_title_C + \"\\n\" + mars_title_D)"
   ]
  },
  {
   "cell_type": "code",
   "execution_count": 29,
   "id": "aed8c5aa-5786-4300-bd60-111a83ddd5ac",
   "metadata": {},
   "outputs": [],
   "source": [
    "# mars hemi img list\n",
    "hemi_img_urls = [\n",
    "    {\"title\": mars_title_A, \"url\": mars_img_A},\n",
    "    {\"title\": mars_title_B, \"url\": mars_img_B},\n",
    "    {\"title\": mars_title_C, \"url\": mars_img_C},\n",
    "    {\"title\": mars_title_D, \"url\": mars_img_D}\n",
    "]"
   ]
  },
  {
   "cell_type": "code",
   "execution_count": 30,
   "id": "6e1e98d6-11ed-4d9c-9979-edc58e5352e0",
   "metadata": {},
   "outputs": [
    {
     "data": {
      "text/plain": [
       "[{'title': 'Cerberus Hemisphere Enhanced',\n",
       "  'url': 'https://marshemispheres.com/cerberus.html'},\n",
       " {'title': 'Schiaparelli Hemisphere Enhanced',\n",
       "  'url': 'https://marshemispheres.com/schiaparelli.html'},\n",
       " {'title': 'Syrtis Major Hemisphere Enhanced',\n",
       "  'url': 'https://marshemispheres.com/syrtis.html'},\n",
       " {'title': 'Valles Marineris Hemisphere Enhanced',\n",
       "  'url': 'https://marshemispheres.com/valles.html'}]"
      ]
     },
     "execution_count": 30,
     "metadata": {},
     "output_type": "execute_result"
    }
   ],
   "source": [
    "hemi_img_urls"
   ]
  },
  {
   "cell_type": "code",
   "execution_count": 31,
   "id": "056527bf-208f-474a-9191-77e78661d545",
   "metadata": {},
   "outputs": [
    {
     "data": {
      "text/plain": [
       "{'title': ['Cerberus Hemisphere Enhanced',\n",
       "  'Schiaparelli Hemisphere Enhanced',\n",
       "  'Syrtis Major Hemisphere Enhanced',\n",
       "  'Valles Marineris Hemisphere Enhanced'],\n",
       " 'url': ['https://marshemispheres.com/cerberus.html',\n",
       "  'https://marshemispheres.com/schiaparelli.html',\n",
       "  'https://marshemispheres.com/syrtis.html',\n",
       "  'https://marshemispheres.com/valles.html']}"
      ]
     },
     "execution_count": 31,
     "metadata": {},
     "output_type": "execute_result"
    }
   ],
   "source": [
    "# create dict for mars hemisphere images\n",
    "hemi_img_dict = {'title': [mars_title_A, mars_title_B, mars_title_C, mars_title_D],\n",
    "                'url': [mars_img_A, mars_img_B, mars_img_C, mars_img_D]}\n",
    "hemi_img_dict"
   ]
  },
  {
   "cell_type": "code",
   "execution_count": 32,
   "id": "14889825-1c74-451b-bb04-92e15d4d6dbd",
   "metadata": {},
   "outputs": [],
   "source": [
    "browser.quit()"
   ]
  },
  {
   "cell_type": "code",
   "execution_count": 33,
   "id": "58dd50b9-0d1f-46ed-94b8-c0e9c297e0d3",
   "metadata": {},
   "outputs": [
    {
     "data": {
      "text/plain": [
       "{'Mars - Earth Comparison': ['Mars', 'Earth'],\n",
       " 'Diameter:': ['6,779 km', '12,742 km'],\n",
       " 'Mass:': ['6.39 × 10^23 kg', '5.97 × 10^24 kg'],\n",
       " 'Moons:': ['2', '1'],\n",
       " 'Distance from Sun:': ['227,943,824 km', '149,598,262 km'],\n",
       " 'Length of Year:': ['687 Earth days', '365.24 days'],\n",
       " 'Temperature:': ['-87 to -5 °C', '-88 to 58°C']}"
      ]
     },
     "execution_count": 33,
     "metadata": {},
     "output_type": "execute_result"
    }
   ],
   "source": [
    "# create dictionaries - earth mars comparison\n",
    "earth_mars_dict = earth_mars_df.T.to_dict('list')\n",
    "earth_mars_dict"
   ]
  },
  {
   "cell_type": "code",
   "execution_count": 34,
   "id": "93f3a2ee-7b82-425c-97ad-33718c393157",
   "metadata": {},
   "outputs": [],
   "source": [
    "# created feature img dict\n",
    "feature_img_dict = {\"title\": \"Featured Mars Image\",\n",
    "                   \"url\": featured_img_url}"
   ]
  },
  {
   "cell_type": "code",
   "execution_count": 36,
   "id": "7949d359-0f74-4810-b3ce-9856badf04e2",
   "metadata": {},
   "outputs": [
    {
     "data": {
      "text/plain": [
       "{'title': [\"NASA's Mars 2020 Heads Into the Test Chamber\"],\n",
       " 'summary': ['In this time-lapse video taken at JPL, engineers move the Mars 2020 rover into a large vacuum chamber for testing in Mars-like environmental conditions.']}"
      ]
     },
     "execution_count": 36,
     "metadata": {},
     "output_type": "execute_result"
    }
   ],
   "source": [
    "# create latest news dict\n",
    "new_news_dict = {'title': [news_title],\n",
    "                'summary': [news_p]}\n",
    "new_news_dict"
   ]
  },
  {
   "cell_type": "code",
   "execution_count": 37,
   "id": "3b9a5d68-24d9-4282-a4f1-0cbbe707f896",
   "metadata": {},
   "outputs": [],
   "source": [
    "# compile dictionaries to one dictionary - dicitonary of dictionary - \n",
    "mars_dict = {'news': new_news_dict,\n",
    "            'feat_img': feature_img_dict,\n",
    "            'mars_facts': earth_mars_dict,\n",
    "            'hemi_img': hemi_img_dict}"
   ]
  }
 ],
 "metadata": {
  "kernelspec": {
   "display_name": "Python 3",
   "language": "python",
   "name": "python3"
  },
  "language_info": {
   "codemirror_mode": {
    "name": "ipython",
    "version": 3
   },
   "file_extension": ".py",
   "mimetype": "text/x-python",
   "name": "python",
   "nbconvert_exporter": "python",
   "pygments_lexer": "ipython3",
   "version": "3.8.8"
  }
 },
 "nbformat": 4,
 "nbformat_minor": 5
}
